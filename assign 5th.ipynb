{
 "cells": [
  {
   "cell_type": "code",
   "execution_count": 23,
   "id": "d9ba1fe1-3756-4469-9006-ea3d13959613",
   "metadata": {},
   "outputs": [],
   "source": [
    "class vehicle :\n",
    "    \n",
    "    def __init__(self ,name_of_vehicle , average_of_vehicle ,max_speed ):\n",
    "        self.name_of_vehicle = name_of_vehicle\n",
    "        self.max_speed = max_speed\n",
    "        self.average_of_vehicle = average_of_vehicle\n",
    "        \n",
    "    def return_vehicle_details(self):\n",
    "        return self.name_of_vehicle , self.average_of_vehicle , self.max_speed \n",
    "        print(\"vehicle class\")\n",
    "    "
   ]
  },
  {
   "cell_type": "code",
   "execution_count": 3,
   "id": "45f2a330-aaa0-41bc-8a62-0df27f01be6a",
   "metadata": {},
   "outputs": [],
   "source": [
    "unnu = vehicle( \"gmc\", 45 , 150 )"
   ]
  },
  {
   "cell_type": "code",
   "execution_count": 4,
   "id": "b8fb53b7-334a-457a-a91d-2d93450d1245",
   "metadata": {},
   "outputs": [
    {
     "data": {
      "text/plain": [
       "'gmc'"
      ]
     },
     "execution_count": 4,
     "metadata": {},
     "output_type": "execute_result"
    }
   ],
   "source": [
    "unnu.name_of_vehicle"
   ]
  },
  {
   "cell_type": "code",
   "execution_count": 88,
   "id": "65bb5c06-55ba-4f68-8b83-279a8ca7c883",
   "metadata": {},
   "outputs": [
    {
     "data": {
      "text/plain": [
       "150"
      ]
     },
     "execution_count": 88,
     "metadata": {},
     "output_type": "execute_result"
    }
   ],
   "source": [
    "unnu.max_speed"
   ]
  },
  {
   "cell_type": "code",
   "execution_count": 7,
   "id": "22b1880d-c60a-4dc5-859f-3fa1d1190701",
   "metadata": {},
   "outputs": [
    {
     "data": {
      "text/plain": [
       "45"
      ]
     },
     "execution_count": 7,
     "metadata": {},
     "output_type": "execute_result"
    }
   ],
   "source": [
    "unnu.average_of_vehicle"
   ]
  },
  {
   "cell_type": "code",
   "execution_count": 42,
   "id": "d4643529-969e-4fe8-9181-58da9c821d7d",
   "metadata": {},
   "outputs": [],
   "source": [
    "class class1:\n",
    "    def test_class1(self):\n",
    "        print(\"class1 is class1\")\n",
    "    "
   ]
  },
  {
   "cell_type": "code",
   "execution_count": 43,
   "id": "7a6ff4bc-0f13-4cc4-a50b-44ce9a4de2fd",
   "metadata": {},
   "outputs": [],
   "source": [
    "class class2(class1):\n",
    "    def test_class2(self):\n",
    "        print(\"class 2 is class 2\")"
   ]
  },
  {
   "cell_type": "code",
   "execution_count": 49,
   "id": "70eda7be-499f-4995-852c-17f895499a9b",
   "metadata": {},
   "outputs": [],
   "source": [
    "class class3(class2):\n",
    "    def test_class3(self):\n",
    "        print(\"now this is class 3 \")"
   ]
  },
  {
   "cell_type": "code",
   "execution_count": 50,
   "id": "725111a7-61c5-45fa-a979-1594d55c75d5",
   "metadata": {},
   "outputs": [],
   "source": [
    "obj_class3  = class3()"
   ]
  },
  {
   "cell_type": "code",
   "execution_count": 51,
   "id": "5bbde6a9-536c-425c-902a-349fa2cba432",
   "metadata": {},
   "outputs": [
    {
     "ename": "AttributeError",
     "evalue": "'class3' object has no attribute 'test_class1'",
     "output_type": "error",
     "traceback": [
      "\u001b[0;31m---------------------------------------------------------------------------\u001b[0m",
      "\u001b[0;31mAttributeError\u001b[0m                            Traceback (most recent call last)",
      "Cell \u001b[0;32mIn[51], line 1\u001b[0m\n\u001b[0;32m----> 1\u001b[0m \u001b[43mobj_class3\u001b[49m\u001b[38;5;241;43m.\u001b[39;49m\u001b[43mtest_class1\u001b[49m()\n",
      "\u001b[0;31mAttributeError\u001b[0m: 'class3' object has no attribute 'test_class1'"
     ]
    }
   ],
   "source": [
    "obj_class3.test_class1()"
   ]
  },
  {
   "cell_type": "code",
   "execution_count": 52,
   "id": "c652ba62-a5ea-46a0-8f88-6bf57274781a",
   "metadata": {},
   "outputs": [],
   "source": [
    "class class1:\n",
    "    def test_class1(self) : \n",
    "        print(\"this is my class 1\" )"
   ]
  },
  {
   "cell_type": "code",
   "execution_count": 53,
   "id": "efac25e2-d556-4b38-a619-55406fac6ebb",
   "metadata": {},
   "outputs": [],
   "source": [
    "class class2 :\n",
    "    def test_class2(self) : \n",
    "        print(\"this is my class 2\")"
   ]
  },
  {
   "cell_type": "code",
   "execution_count": 54,
   "id": "47d6130d-5a30-499a-a4f1-19b1a491626e",
   "metadata": {},
   "outputs": [],
   "source": [
    "class class3 (class1 , class2) : \n",
    "    pass"
   ]
  },
  {
   "cell_type": "code",
   "execution_count": 55,
   "id": "8c338452-8e46-4179-8e88-4d517d382cf0",
   "metadata": {},
   "outputs": [],
   "source": [
    "obj_class3 = class3()"
   ]
  },
  {
   "cell_type": "code",
   "execution_count": 56,
   "id": "e6c8ece8-ce56-4d48-97a8-e7a98248d59b",
   "metadata": {},
   "outputs": [
    {
     "name": "stdout",
     "output_type": "stream",
     "text": [
      "this is my class 1\n"
     ]
    }
   ],
   "source": [
    "obj_class3.test_class1()"
   ]
  },
  {
   "cell_type": "code",
   "execution_count": 57,
   "id": "5de888f1-4c6f-4f6d-88d0-bc125f388db4",
   "metadata": {},
   "outputs": [
    {
     "name": "stdout",
     "output_type": "stream",
     "text": [
      "this is my class 2\n"
     ]
    }
   ],
   "source": [
    "obj_class3.test_class2()"
   ]
  },
  {
   "cell_type": "code",
   "execution_count": null,
   "id": "44a757ac-4e64-4186-a99a-e455403a0e15",
   "metadata": {},
   "outputs": [],
   "source": [
    "class vehicle :\n",
    "    \n",
    "    def __init__(self ,name_of_vehicle , average_of_vehicle ,max_speed ):\n",
    "        self.name_of_vehicle = name_of_vehicle\n",
    "        self.max_speed = max_speed\n",
    "        self.average_of_vehicle = average_of_vehicle\n",
    "        \n",
    "    def return_vehicle_details(self):\n",
    "        return self.name_of_vehicle , self.average_of_vehicle , self.max_speed \n",
    "        print(\"vehicle class\")\n",
    "    "
   ]
  },
  {
   "cell_type": "code",
   "execution_count": 81,
   "id": "206bf532-910b-4e9a-b3cb-f8c736707797",
   "metadata": {},
   "outputs": [],
   "source": [
    "def get_max_speed(self):\n",
    "    return self._max_speed()"
   ]
  },
  {
   "cell_type": "code",
   "execution_count": 91,
   "id": "c84f29b3-24a4-4099-b559-de497a5f2174",
   "metadata": {},
   "outputs": [],
   "source": [
    "def set_max_speed(self):\n",
    "    print(145)"
   ]
  },
  {
   "cell_type": "code",
   "execution_count": 92,
   "id": "f2d7fa6c-e45b-4c81-9e37-1da93777a37d",
   "metadata": {},
   "outputs": [
    {
     "data": {
      "text/plain": [
       "150"
      ]
     },
     "execution_count": 92,
     "metadata": {},
     "output_type": "execute_result"
    }
   ],
   "source": [
    "unnu.max_speed"
   ]
  },
  {
   "cell_type": "code",
   "execution_count": null,
   "id": "08fe9523-7a6f-47e0-acca-94d14404e916",
   "metadata": {},
   "outputs": [],
   "source": []
  }
 ],
 "metadata": {
  "kernelspec": {
   "display_name": "Python 3 (ipykernel)",
   "language": "python",
   "name": "python3"
  },
  "language_info": {
   "codemirror_mode": {
    "name": "ipython",
    "version": 3
   },
   "file_extension": ".py",
   "mimetype": "text/x-python",
   "name": "python",
   "nbconvert_exporter": "python",
   "pygments_lexer": "ipython3",
   "version": "3.10.8"
  }
 },
 "nbformat": 4,
 "nbformat_minor": 5
}
